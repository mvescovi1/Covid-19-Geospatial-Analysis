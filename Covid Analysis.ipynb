{
 "cells": [
  {
   "cell_type": "markdown",
   "id": "01a9084c",
   "metadata": {},
   "source": [
    "## Covid-19 Geospatial Data Analysis"
   ]
  },
  {
   "cell_type": "code",
   "execution_count": null,
   "id": "9ba06ad1",
   "metadata": {},
   "outputs": [],
   "source": [
    "import pandas as pd\n",
    "import seaborn as sns\n",
    "import matplotlib.pyplot as plt\n",
    "import matplotlib\n",
    "import geopandas as gpd\n",
    "from shapely.geometry import Point, Polygon"
   ]
  },
  {
   "cell_type": "markdown",
   "id": "843e7af9",
   "metadata": {},
   "source": [
    "### Import Data"
   ]
  },
  {
   "cell_type": "code",
   "execution_count": null,
   "id": "7c701c23",
   "metadata": {},
   "outputs": [],
   "source": [
    "#location of Johns Hopkins University Data: https://github.com/CSSEGISandData/COVID-19\n",
    "\n",
    "#Johns Hopkins Data on Cases and Deaths\n",
    "cases_us_full = pd.read_csv('time_series_covid19_confirmed_US.csv')\n",
    "deaths_us_full = pd.read_csv('time_series_covid19_deaths_US.csv')\n",
    "\n",
    "#Data on population of each US county\n",
    "pop_us = pd.read_csv('DECENNIALSF12010.P1_data_with_overlays_2021-12-03T213906.csv')\n",
    "\n",
    "#CDC data on current vaccinations per US county\n",
    "vac_us_full = pd.read_csv('COVID-19_Vaccinations_in_the_United_States_County.csv')\n",
    "\n",
    "#County areas in sq miles\n",
    "land_full=pd.read_excel('LND01.xls')\n"
   ]
  },
  {
   "cell_type": "markdown",
   "id": "0255a87b",
   "metadata": {},
   "source": [
    "### Data Cleaning"
   ]
  },
  {
   "cell_type": "code",
   "execution_count": null,
   "id": "21db288e",
   "metadata": {},
   "outputs": [],
   "source": [
    "cases_us_full.head(5)"
   ]
  },
  {
   "cell_type": "code",
   "execution_count": null,
   "id": "8b05fce1",
   "metadata": {},
   "outputs": [],
   "source": [
    "x=cases_us_full.columns.to_list()"
   ]
  },
  {
   "cell_type": "code",
   "execution_count": null,
   "id": "87dc2065",
   "metadata": {
    "scrolled": true
   },
   "outputs": [],
   "source": [
    "#create new df of cases with only selected columns\n",
    "cases_us = cases_us_full[[x[0],x[5],x[6],x[7],x[8],x[9],x[-1]]].copy()\n",
    "\n",
    "#strip down UID column to get standard county ID for joining data from other df.\n",
    "cases_us['ID'] = cases_us['UID'].astype(str).str[-5:]\n",
    "#cases_us['ID'] = cases_us['ID'].astype(int)"
   ]
  },
  {
   "cell_type": "code",
   "execution_count": null,
   "id": "0f5d0e50",
   "metadata": {},
   "outputs": [],
   "source": [
    "cases_us = cases_us.rename(columns={'1/21/22':'Cases'})"
   ]
  },
  {
   "cell_type": "code",
   "execution_count": null,
   "id": "820b0e94",
   "metadata": {},
   "outputs": [],
   "source": [
    "df_us = cases_us.copy()"
   ]
  },
  {
   "cell_type": "code",
   "execution_count": null,
   "id": "6d66b1c4",
   "metadata": {},
   "outputs": [],
   "source": [
    "df_us['Deaths'] = deaths_us_full['1/21/22']"
   ]
  },
  {
   "cell_type": "code",
   "execution_count": null,
   "id": "16d04a03",
   "metadata": {},
   "outputs": [],
   "source": [
    "pop_us.head()"
   ]
  },
  {
   "cell_type": "code",
   "execution_count": null,
   "id": "11912d44",
   "metadata": {},
   "outputs": [],
   "source": [
    "pop_us=pop_us.drop([0])"
   ]
  },
  {
   "cell_type": "code",
   "execution_count": null,
   "id": "2077745d",
   "metadata": {},
   "outputs": [],
   "source": [
    "pop_us=pop_us.rename(columns={'P001001':'Population'})\n",
    "\n",
    "#strip down GEO_ID column to get standard county ID for joining data from other df.\n",
    "pop_us['pop_ID']=pop_us['GEO_ID'].str[-5:]\n",
    "#pop_us['pop_ID'] = pop_us['pop_ID'].astype(int)"
   ]
  },
  {
   "cell_type": "code",
   "execution_count": null,
   "id": "181fa6e4",
   "metadata": {},
   "outputs": [],
   "source": [
    "#cleaning to remove the xxxx(rxxx) in the population column\n",
    "pop_us['Population'].astype(str)\n",
    "pattern = '\\(......\\)'\n",
    "pop_us['Population']=pop_us.Population.str.replace(pat=pattern,repl= \"\", regex=True)\n",
    "pop_us['Population'] = pop_us['Population'].astype(int)\n",
    "#pop_us['pop_ID'] = pop_us['pop_ID'].astype(int)"
   ]
  },
  {
   "cell_type": "code",
   "execution_count": null,
   "id": "396b8f91",
   "metadata": {},
   "outputs": [],
   "source": [
    "#merge in population for each county to overall df\n",
    "df_us=df_us.merge(pop_us[['Population','pop_ID']], how='left', left_on='ID', right_on='pop_ID')"
   ]
  },
  {
   "cell_type": "code",
   "execution_count": null,
   "id": "e44c09c6",
   "metadata": {},
   "outputs": [],
   "source": [
    "vac_us_full = vac_us_full.rename(columns={'Administered_Dose1_Pop_Pct':'Vaccinated_Percent'})"
   ]
  },
  {
   "cell_type": "code",
   "execution_count": null,
   "id": "ec860340",
   "metadata": {},
   "outputs": [],
   "source": [
    "#merge in vaccinated percent for each county to overall df\n",
    "df_us = df_us.merge(vac_us_full, how='left', left_on='ID', right_on='FIPS')"
   ]
  },
  {
   "cell_type": "code",
   "execution_count": null,
   "id": "a84e553f",
   "metadata": {},
   "outputs": [],
   "source": [
    "df_us['Population'] = df_us['Population'].astype(float)"
   ]
  },
  {
   "cell_type": "code",
   "execution_count": null,
   "id": "9db548ed",
   "metadata": {},
   "outputs": [],
   "source": [
    "# create feature for cases as percent of county population\n",
    "df_us['Cases_Percent']=((df_us['Cases']) / (df_us['Population']))*100"
   ]
  },
  {
   "cell_type": "code",
   "execution_count": null,
   "id": "91b8aea1",
   "metadata": {},
   "outputs": [],
   "source": [
    "# create feature for deaths as percent of county population\n",
    "df_us['Deaths_Percent']=((df_us['Deaths']) / (df_us['Population']))*100"
   ]
  },
  {
   "cell_type": "code",
   "execution_count": null,
   "id": "fd652cc8",
   "metadata": {},
   "outputs": [],
   "source": [
    "df_us.shape"
   ]
  },
  {
   "cell_type": "code",
   "execution_count": null,
   "id": "96799be5",
   "metadata": {},
   "outputs": [],
   "source": [
    "df_us = df_us.dropna()\n",
    "df_us.shape"
   ]
  },
  {
   "cell_type": "code",
   "execution_count": null,
   "id": "63ef9a88",
   "metadata": {},
   "outputs": [],
   "source": [
    "land_full.head()"
   ]
  },
  {
   "cell_type": "code",
   "execution_count": null,
   "id": "8bb81f77",
   "metadata": {},
   "outputs": [],
   "source": [
    "#new df with only selected columns\n",
    "land=land_full[['Areaname', 'STCOU', 'LND110210D']]\n",
    "land.head()\n",
    "#LND in sq miles"
   ]
  },
  {
   "cell_type": "code",
   "execution_count": null,
   "id": "e559fe17",
   "metadata": {},
   "outputs": [],
   "source": [
    "land['STCOU'] = land['STCOU'].astype(float)\n",
    "df_us['ID'] = df_us['ID'].astype(float)"
   ]
  },
  {
   "cell_type": "code",
   "execution_count": null,
   "id": "9e9bd440",
   "metadata": {},
   "outputs": [],
   "source": [
    "#merge the land areas per county into the overall df \n",
    "df_us=df_us.merge(land, how='left', left_on='ID', right_on='STCOU')"
   ]
  },
  {
   "cell_type": "code",
   "execution_count": null,
   "id": "923856af",
   "metadata": {},
   "outputs": [],
   "source": [
    "#create feature for ppl/sq mi density\n",
    "df_us['Pop_Density'] = (df_us['Population'])/(df_us['LND110210D'])"
   ]
  },
  {
   "cell_type": "code",
   "execution_count": null,
   "id": "01839f3a",
   "metadata": {},
   "outputs": [],
   "source": [
    "df_us.describe()"
   ]
  },
  {
   "cell_type": "code",
   "execution_count": null,
   "id": "cd233569",
   "metadata": {},
   "outputs": [],
   "source": [
    "pd.options.display.max_rows=250\n",
    "df_us.sort_values(by='Pop_Density', ascending=False)\n",
    "\n",
    "#Census Bureau defines divide between urban/rural as 1,000 ppl/sq mile"
   ]
  },
  {
   "cell_type": "code",
   "execution_count": null,
   "id": "fef1040b",
   "metadata": {},
   "outputs": [],
   "source": [
    "#remove missing values for Puerto Rico\n",
    "df_us=df_us.dropna(thresh=16)\n",
    "df_us.shape"
   ]
  },
  {
   "cell_type": "code",
   "execution_count": null,
   "id": "666f1b28",
   "metadata": {},
   "outputs": [],
   "source": [
    "#Number of counties with 0 cases. Most likely these counties arent reporting. But cant exclude because we cant \n",
    "# say that for sure\n",
    "df_us[df_us['Cases']==0].count()['Cases']"
   ]
  },
  {
   "cell_type": "code",
   "execution_count": null,
   "id": "d66f2943",
   "metadata": {},
   "outputs": [],
   "source": [
    "#Number of counties with 0 deaths. Most likely these counties arent reporting. But cant exclude because we cant \n",
    "# say that for sure\n",
    "df_us[df_us['Deaths']==0].count()['Deaths']"
   ]
  },
  {
   "cell_type": "markdown",
   "id": "d0932d4b",
   "metadata": {},
   "source": [
    "### Exploratory Data Analysis / Descriptive Statistics"
   ]
  },
  {
   "cell_type": "code",
   "execution_count": null,
   "id": "206aca30",
   "metadata": {},
   "outputs": [],
   "source": [
    "df_us.describe()"
   ]
  },
  {
   "cell_type": "code",
   "execution_count": null,
   "id": "c412e272",
   "metadata": {},
   "outputs": [],
   "source": [
    "#Figure 1\n",
    "sns.histplot(data=df_us, x='Cases_Percent', bins=50)"
   ]
  },
  {
   "cell_type": "code",
   "execution_count": null,
   "id": "173a6a6b",
   "metadata": {},
   "outputs": [],
   "source": [
    "#Figure 2\n",
    "sns.histplot(data=df_us, x='Deaths_Percent', bins=50)"
   ]
  },
  {
   "cell_type": "code",
   "execution_count": null,
   "id": "56cb82db",
   "metadata": {},
   "outputs": [],
   "source": [
    "#Figure 3\n",
    "sns.histplot(data=df_us, x='Vaccinated_Percent', bins=50)"
   ]
  },
  {
   "cell_type": "code",
   "execution_count": null,
   "id": "e5387115",
   "metadata": {},
   "outputs": [],
   "source": [
    "#Figure 4\n",
    "sns.histplot(data=df_us, x='Pop_Density', bins='auto', log_scale=True)\n",
    "#log scale"
   ]
  },
  {
   "cell_type": "markdown",
   "id": "96456e35",
   "metadata": {},
   "source": [
    "Cases and Death Percentages were very normally distributed aside from counties that are believed to not be reporting. The Vaccinated Percentage was not as normally distributed as compared to Cases and Death Percentage histograms. "
   ]
  },
  {
   "cell_type": "markdown",
   "id": "8629b986",
   "metadata": {},
   "source": [
    "Is there a difference in Cases and Deaths Percentages based upon population density?\n",
    "3 different population densities will be used to determine any differences. \n",
    "1) > 1000 people/sq mi\n",
    "\n",
    "2) > 100 & < 1000 people/sq mi\n",
    "\n",
    "3) < 100 people/sq mi"
   ]
  },
  {
   "cell_type": "code",
   "execution_count": null,
   "id": "57fc4cf3",
   "metadata": {},
   "outputs": [],
   "source": [
    "#Figure 5\n",
    "\n",
    "\n",
    "#break the pop density into 3 cohorts based upon population densities, and see if there are more differences\n",
    "\n",
    "fig, axes = plt.subplots(3,3, figsize=(15,15), sharey=True)\n",
    "\n",
    "\n",
    "Filt_urban2 = df_us[df_us['Pop_Density'] > 1000]\n",
    "Filt_middle2 = df_us[(df_us['Pop_Density'] > 100) & (df_us['Pop_Density'] <= 1000)]\n",
    "Filt_rural2 = df_us[df_us['Pop_Density'] <= 100]\n",
    "\n",
    "sns.histplot(ax=axes[0,0], data=Filt_urban2, x='Cases_Percent', bins='auto')\n",
    "sns.histplot(ax=axes[0,1], data=Filt_middle2, x='Cases_Percent', bins='auto')\n",
    "sns.histplot(ax=axes[0,2], data=Filt_rural2, x='Cases_Percent', bins='auto')\n",
    "\n",
    "sns.histplot(ax=axes[1,0], data=Filt_urban2, x='Deaths_Percent', bins='auto')\n",
    "sns.histplot(ax=axes[1,1], data=Filt_middle2, x='Deaths_Percent', bins='auto')\n",
    "sns.histplot(ax=axes[1,2], data=Filt_rural2, x='Deaths_Percent', bins='auto')\n",
    "\n",
    "sns.histplot(ax=axes[2,0], data=Filt_urban2, x='Vaccinated_Percent', bins='auto')\n",
    "sns.histplot(ax=axes[2,1], data=Filt_middle2, x='Vaccinated_Percent', bins='auto')\n",
    "sns.histplot(ax=axes[2,2], data=Filt_rural2, x='Vaccinated_Percent', bins='auto')\n",
    "\n",
    "plt.show()"
   ]
  },
  {
   "cell_type": "code",
   "execution_count": null,
   "id": "6c7a33b8",
   "metadata": {},
   "outputs": [],
   "source": [
    "#Table 1\n",
    "Filt_urban2.describe()[['Vaccinated_Percent', 'Cases_Percent', 'Deaths_Percent', 'Pop_Density']]"
   ]
  },
  {
   "cell_type": "code",
   "execution_count": null,
   "id": "9fcb0270",
   "metadata": {},
   "outputs": [],
   "source": [
    "#Table 2\n",
    "Filt_middle2.describe()[['Vaccinated_Percent', 'Cases_Percent', 'Deaths_Percent', 'Pop_Density']]"
   ]
  },
  {
   "cell_type": "code",
   "execution_count": null,
   "id": "8cfb76f7",
   "metadata": {},
   "outputs": [],
   "source": [
    "#Table 3\n",
    "Filt_rural2.describe()[['Vaccinated_Percent', 'Cases_Percent', 'Deaths_Percent', 'Pop_Density']]"
   ]
  },
  {
   "cell_type": "markdown",
   "id": "709fb62e",
   "metadata": {},
   "source": [
    "Result: All 3 cohorts showed very normally distributed data in Cases Percent and Deaths Percent. Cases Percent median for all 3 cohorts was within +/- 1% of 21.5% with no pattern based upon population density. Deaths Percent median for a 3 cohorts was within +/- 2.5% of 28.5%, and the Death Percent increased as the population density decreased. \n",
    "\n",
    "Data for Vaccinated Percent was normally distributed but retained some skew for the most urban cohort and most rural cohort. A drill down into the highly vaccinated urban counties (upper 25% quartile) and lowest vaccinated rural counties (34% and lower) will be performed for further insights."
   ]
  },
  {
   "cell_type": "code",
   "execution_count": null,
   "id": "437d09c9",
   "metadata": {},
   "outputs": [],
   "source": [
    "Filt_urban3 = Filt_urban2[Filt_urban2['Vaccinated_Percent']>86.725]"
   ]
  },
  {
   "cell_type": "code",
   "execution_count": null,
   "id": "fd7c8d45",
   "metadata": {},
   "outputs": [],
   "source": [
    "Filt_rural3 = Filt_rural2[Filt_rural2['Vaccinated_Percent']<34.00]"
   ]
  },
  {
   "cell_type": "code",
   "execution_count": null,
   "id": "e68832db",
   "metadata": {},
   "outputs": [],
   "source": [
    "#Figure 6\n",
    "\n",
    "fig, axes = plt.subplots(3,2, figsize=(15,15), sharey=True)\n",
    "\n",
    "sns.histplot(ax=axes[0,0], data=Filt_urban3, x='Cases_Percent', bins='auto')\n",
    "sns.histplot(ax=axes[0,1], data=Filt_rural3, x='Cases_Percent', bins='auto')\n",
    "\n",
    "sns.histplot(ax=axes[1,0], data=Filt_urban3, x='Deaths_Percent', bins='auto')\n",
    "sns.histplot(ax=axes[1,1], data=Filt_rural3, x='Deaths_Percent', bins='auto')\n",
    "\n",
    "sns.histplot(ax=axes[2,0], data=Filt_urban3, x='Vaccinated_Percent', bins='auto')\n",
    "sns.histplot(ax=axes[2,1], data=Filt_rural3, x='Vaccinated_Percent', bins='auto')\n",
    "\n",
    "plt.show()"
   ]
  },
  {
   "cell_type": "code",
   "execution_count": null,
   "id": "66e4f56b",
   "metadata": {},
   "outputs": [],
   "source": [
    "#Table 4\n",
    "Filt_urban3.describe()[['Vaccinated_Percent', 'Cases_Percent', 'Deaths_Percent', 'Pop_Density']]"
   ]
  },
  {
   "cell_type": "code",
   "execution_count": null,
   "id": "7aa9dc83",
   "metadata": {},
   "outputs": [],
   "source": [
    "#Table 5\n",
    "Filt_rural3.describe()[['Vaccinated_Percent', 'Cases_Percent', 'Deaths_Percent', 'Pop_Density']]"
   ]
  },
  {
   "cell_type": "markdown",
   "id": "1b751c53",
   "metadata": {},
   "source": [
    "Results: Table 4 shows the upper 25% quartile of Vaccinated Percent of urban areas had a slightly higher median Deaths Percent but a much lower Cases Percent when compared to the overall urban areas population density. \n",
    "\n",
    "Table 5 shows the lowest vaccinated rural areas, a median rate of 23.9% vaccinated. The Cases Percent and Deaths Percent median were 16.5% and 0.17%, respectively. The Deaths Percent data was skewed, and the mean was 0.21%. Surprisingly, this lowely vaccinated area has a lower Death Percent than even the most highly vaccinated urban area. Another factor to consider is Population Density associated with Table 5. The median population density for this group is 7 people per square mile. The general lack of humans to pass on the infection should be a consideration in this analysis."
   ]
  },
  {
   "cell_type": "markdown",
   "id": "0a49aee9",
   "metadata": {},
   "source": [
    "## Correlation and Cluster Analysis"
   ]
  },
  {
   "cell_type": "markdown",
   "id": "8738547d",
   "metadata": {},
   "source": [
    "### What are the correlations, if any, between vaccination, cases, deaths, and population density?"
   ]
  },
  {
   "cell_type": "code",
   "execution_count": null,
   "id": "36f339fd",
   "metadata": {},
   "outputs": [],
   "source": [
    "from sklearn.cluster import KMeans\n",
    "from sklearn.preprocessing import StandardScaler"
   ]
  },
  {
   "cell_type": "code",
   "execution_count": null,
   "id": "84fca586",
   "metadata": {},
   "outputs": [],
   "source": [
    "df_us.head()"
   ]
  },
  {
   "cell_type": "code",
   "execution_count": null,
   "id": "ac979c49",
   "metadata": {},
   "outputs": [],
   "source": [
    "df_clust = df_us[['Vaccinated_Percent', 'Cases_Percent', 'Deaths_Percent', 'Pop_Density']]\n",
    "df_clust"
   ]
  },
  {
   "cell_type": "code",
   "execution_count": null,
   "id": "64798e4e",
   "metadata": {},
   "outputs": [],
   "source": [
    "scaler = StandardScaler()\n",
    "df_stand = scaler.fit_transform(df_clust)"
   ]
  },
  {
   "cell_type": "code",
   "execution_count": null,
   "id": "fa79a464",
   "metadata": {},
   "outputs": [],
   "source": [
    "wcss=[]\n",
    "for i in range(1,10):\n",
    "    kmeans = KMeans(n_clusters=i, init = 'k-means++', random_state = 20)\n",
    "    kmeans.fit(df_stand)\n",
    "    wcss.append(kmeans.inertia_)\n",
    "plt.plot(range(1,10),wcss)\n",
    "plt.show()"
   ]
  },
  {
   "cell_type": "code",
   "execution_count": null,
   "id": "510c4608",
   "metadata": {},
   "outputs": [],
   "source": [
    "#select number of clusters as 5\n",
    "kmeans = KMeans(n_clusters=5, init = 'k-means++', random_state = 20)\n",
    "y_kmeans = kmeans.fit_predict(df_stand)"
   ]
  },
  {
   "cell_type": "code",
   "execution_count": null,
   "id": "3d2868ba",
   "metadata": {},
   "outputs": [],
   "source": [
    "df_clust['cluster_number'] = y_kmeans\n",
    "df_us['cluster_number'] = y_kmeans"
   ]
  },
  {
   "cell_type": "code",
   "execution_count": null,
   "id": "75ecf4fb",
   "metadata": {},
   "outputs": [],
   "source": [
    "#Table 6\n",
    "#show how many data points assigned to each cluster\n",
    "df_clust.groupby(by='cluster_number').count()"
   ]
  },
  {
   "cell_type": "code",
   "execution_count": null,
   "id": "cda62739",
   "metadata": {},
   "outputs": [],
   "source": [
    "#Figure 7\n",
    "\n",
    "plt.figure(figsize=(10,10))\n",
    "sns.heatmap(data=df_clust.corr(), annot=True)"
   ]
  },
  {
   "cell_type": "code",
   "execution_count": null,
   "id": "dd63a97f",
   "metadata": {},
   "outputs": [],
   "source": [
    "# Figure 8\n",
    "sns.pairplot(data=df_clust, hue='cluster_number', palette='deep')"
   ]
  },
  {
   "cell_type": "code",
   "execution_count": null,
   "id": "b962d1eb",
   "metadata": {},
   "outputs": [],
   "source": [
    "#Figure 9\n",
    "\n",
    "fig, axes = plt.subplots(4, figsize=(15,15), sharey=True)\n",
    "\n",
    "sns.scatterplot(ax=axes[0], data=df_us, hue='cluster_number', x='Cases_Percent', y='Vaccinated_Percent', palette='deep')\n",
    "sns.scatterplot(ax=axes[1], data=df_us, hue='cluster_number', x='Deaths_Percent', y='Vaccinated_Percent', palette='deep')\n",
    "axes[2].set(xscale='log')\n",
    "sns.scatterplot(ax=axes[2], data=df_us, hue='cluster_number', x='Pop_Density', y='Vaccinated_Percent', palette='deep')\n",
    "sns.scatterplot(ax=axes[3], data=df_us, hue='cluster_number', x='Deaths_Percent', y='Cases_Percent', palette='deep')"
   ]
  },
  {
   "cell_type": "code",
   "execution_count": null,
   "id": "3d1bbc47",
   "metadata": {},
   "outputs": [],
   "source": [
    "#Table 7\n",
    "\n",
    "for i in range(0,5):\n",
    "    print(df_clust[df_clust['cluster_number']==i].describe()[['Vaccinated_Percent', 'Cases_Percent', 'Deaths_Percent', 'Pop_Density']])"
   ]
  },
  {
   "cell_type": "code",
   "execution_count": null,
   "id": "15d07982",
   "metadata": {},
   "outputs": [],
   "source": [
    "#Table 8\n",
    "\n",
    "for i in range(0,5):\n",
    "    print(df_clust[df_clust['cluster_number']==i].median()[['Vaccinated_Percent', 'Cases_Percent', 'Deaths_Percent', 'Pop_Density']])"
   ]
  },
  {
   "cell_type": "markdown",
   "id": "2ffeeb25",
   "metadata": {},
   "source": [
    "### Results: \n",
    "\n",
    "Cluster Number had the strongest correlation to Cases Percent as shown in Figure 7. Therefore, Cases Percent was the most important factor in determining Cluster Number. Population Density had almost no correlation to anything except Vaccinated Percent. It was surprising that Population Density did not correlate to Cases Percent because it was expected a high population density would make it harder to not be amongst other people, and thus more likely to become infected. Aside from cluster number, the next strongest correlation was Cases Percent vs Death Percent which was an expected correlation.\n",
    "\n",
    "Cluster 3 contained only 3 points as shown in Table 6. Those 3 points were also the largest population densities. This is too small of sample size to draw conclusions.\n",
    "\n",
    "The Cases Percent and Deaths Percent standard deviation amongst all the clusters was very similar. The Vaccination Percent standard deviation amonst all the clusters was not as consistant as shown in Table 7.\n",
    "\n",
    "The clusters can be approximately described as such from the clusters' medians in Table 8:\n",
    "\n",
    "Cluster 0: high vaccination, low cases, low deaths, mid to high population density, 629 data points\n",
    "\n",
    "Cluster 1: low vaccination, mid cases, high deaths, low to mid population density, 916 data points \n",
    "\n",
    "Cluster 2: low vaccination, low cases, low deaths, low population density, 546 data points\n",
    "\n",
    "Cluster 3: high vaccination, high cases, high deaths, high population density, 3 data points\n",
    "\n",
    "Cluster 4: mid vaccination, high cases, mid deaths, mid population density, 1046 data points "
   ]
  },
  {
   "cell_type": "markdown",
   "id": "dce47236",
   "metadata": {},
   "source": [
    "## Geospatial Analysis"
   ]
  },
  {
   "cell_type": "markdown",
   "id": "f491f069",
   "metadata": {},
   "source": [
    "### How do the cluster location look when plotted on a map? Are there any additional correlations that can be found?"
   ]
  },
  {
   "cell_type": "code",
   "execution_count": null,
   "id": "0a528c23",
   "metadata": {},
   "outputs": [],
   "source": [
    "df_us.head()"
   ]
  },
  {
   "cell_type": "code",
   "execution_count": null,
   "id": "f66d9123",
   "metadata": {},
   "outputs": [],
   "source": [
    "#read in US county shape file\n",
    "county_shp = gpd.read_file('.\\cb_2018_us_county_500k\\cb_2018_us_county_500k.shp')"
   ]
  },
  {
   "cell_type": "code",
   "execution_count": null,
   "id": "da413abf",
   "metadata": {},
   "outputs": [],
   "source": [
    "# merge county shape geometry into df_us to make required geometry for geodataframe \n",
    "df_us = df_us.merge(county_shp[['geometry', 'GEOID']], how='left', left_on='pop_ID', right_on='GEOID')"
   ]
  },
  {
   "cell_type": "code",
   "execution_count": null,
   "id": "6afa6976",
   "metadata": {},
   "outputs": [],
   "source": [
    "#create geodataframe\n",
    "geo_df = gpd.GeoDataFrame(df_us, crs=4326, geometry=df_us['geometry'])"
   ]
  },
  {
   "cell_type": "code",
   "execution_count": null,
   "id": "a7215b4c",
   "metadata": {},
   "outputs": [],
   "source": [
    "# Figure 10\n",
    "\n",
    "from mpl_toolkits.axes_grid1 import make_axes_locatable\n",
    "\n",
    "fig, ax = plt.subplots(1,1, figsize=(20,20))\n",
    "\n",
    "divider = make_axes_locatable(ax)\n",
    "cax = divider.append_axes('right', size='5%', pad=0.1)\n",
    "ax.set_xlim(-130,-60)\n",
    "ax.set_ylim(25,50)\n",
    "plt.title('County Fatalities (Percent)', loc='center')\n",
    "\n",
    "geo_df.plot(ax=ax, column='Deaths_Percent', legend=True, cax=cax)\n",
    "\n",
    "plt.show()"
   ]
  },
  {
   "cell_type": "code",
   "execution_count": null,
   "id": "fd78a9fe",
   "metadata": {},
   "outputs": [],
   "source": [
    "# Figure 11\n",
    "\n",
    "geo_df.explore(legend=True, column='Vaccinated_Percent', tooltip=['Cases_Percent', 'Cases', 'Deaths_Percent', 'Deaths', 'Vaccinated_Percent', 'Areaname', 'Population'])"
   ]
  },
  {
   "cell_type": "code",
   "execution_count": null,
   "id": "3efebf66",
   "metadata": {},
   "outputs": [],
   "source": [
    "# Figure 12\n",
    "\n",
    "m = geo_df[geo_df['cluster_number']==0].explore(color='blue', tooltip=['cluster_number', 'Cases_Percent', 'Cases', 'Deaths_Percent', 'Deaths', 'Vaccinated_Percent', 'Areaname', 'Population'])\n",
    "geo_df[geo_df['cluster_number']==1].explore(m=m, color='orange', tooltip=['cluster_number', 'Cases_Percent', 'Cases', 'Deaths_Percent', 'Deaths', 'Vaccinated_Percent', 'Areaname', 'Population'])\n",
    "geo_df[geo_df['cluster_number']==2].explore(m=m, color='green', tooltip=['cluster_number', 'Cases_Percent', 'Cases', 'Deaths_Percent', 'Deaths', 'Vaccinated_Percent', 'Areaname', 'Population'])\n",
    "geo_df[geo_df['cluster_number']==3].explore(m=m, color='red', tooltip=['cluster_number', 'Cases_Percent', 'Cases', 'Deaths_Percent', 'Deaths', 'Vaccinated_Percent', 'Areaname', 'Population'])\n",
    "geo_df[geo_df['cluster_number']==4].explore(m=m, color='purple', tooltip=['cluster_number', 'Cases_Percent', 'Cases', 'Deaths_Percent', 'Deaths', 'Vaccinated_Percent', 'Areaname', 'Population'])\n",
    "\n",
    "m"
   ]
  },
  {
   "cell_type": "markdown",
   "id": "486dc8e9",
   "metadata": {},
   "source": [
    "### Results:\n",
    "\n",
    "Cluster 3 (red) all 3 data points are located in New York City.\n",
    "\n",
    "Cluster 2 (green) had the lowest median population density. That makes sense when the majority of its data points are in the west.\n",
    "\n",
    "Cluster 0 (blue) is predominantly found on the west coast or the northeast.\n",
    "\n",
    "Clusters 1 (orange) and 4 (purple) are predominantly in the south and midwest."
   ]
  },
  {
   "cell_type": "code",
   "execution_count": null,
   "id": "0b7d18a6",
   "metadata": {},
   "outputs": [],
   "source": [
    "#https://covid.cdc.gov/covid-data-tracker/#county-view?list_select_state=all_states&list_select_county=all_counties&data-type=Vaccinations&metric=Administered_Dose1_Pop_Pct\n",
    "# https://data.cdc.gov/Vaccinations/COVID-19-Vaccinations-in-the-United-States-County/8xkx-amqh/data\n"
   ]
  }
 ],
 "metadata": {
  "kernelspec": {
   "display_name": "Python 3 (ipykernel)",
   "language": "python",
   "name": "python3"
  },
  "language_info": {
   "codemirror_mode": {
    "name": "ipython",
    "version": 3
   },
   "file_extension": ".py",
   "mimetype": "text/x-python",
   "name": "python",
   "nbconvert_exporter": "python",
   "pygments_lexer": "ipython3",
   "version": "3.9.7"
  }
 },
 "nbformat": 4,
 "nbformat_minor": 5
}
